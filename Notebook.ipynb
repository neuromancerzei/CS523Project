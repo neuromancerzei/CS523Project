{
 "cells": [
  {
   "cell_type": "markdown",
   "id": "accccb03",
   "metadata": {},
   "source": [
    "# 1. Data Collection #\n",
    "## Historical Market Data Collection ##\n",
    "Identify Relevant Data: Determine which financial instruments (e.g., stocks, futures, forex) are relevant to your strategy. For the E-mini S&P 500 futures contract example provided, you'll collect price and volume data.\n",
    "\n",
    "Data Granularity: Decide on the time frame for the data (e.g., 1-minute, 1-hour, daily). Higher-frequency data allows for more granular analysis but requires more storage and processing power.\n",
    "\n",
    "Historical Depth: Determine how far back you need historical data. Longer historical periods can provide more robust training but may not always reflect current market conditions.\n",
    "\n",
    "Data Sources: Use the TWS API for market data.\n",
    "\n",
    "## New Headlines Collection ##\n",
    "Relevance: Focus on news that directly impacts your financial instruments. For the S&P 500, this might include economic indicators, earnings reports, and major geopolitical events.\n",
    "\n",
    "Sentiment Analysis: Consider performing sentiment analysis on news headlines to quantify the market sentiment. This can be a feature for your model.\n",
    "\n",
    "API Integration: Use APIs provided by news sources or financial data providers. Make sure to handle rate limits and request quotas.\n"
   ]
  },
  {
   "cell_type": "code",
   "execution_count": 4,
   "id": "bf173e97",
   "metadata": {},
   "outputs": [
    {
     "data": {
      "text/plain": [
       "<IB connected to 127.0.0.1:7497 clientId=2>"
      ]
     },
     "execution_count": 4,
     "metadata": {},
     "output_type": "execute_result"
    }
   ],
   "source": [
    "from ib_insync import IB, Future, util, Order\n",
    "\n",
    "ib = IB()\n",
    "ib.connect('127.0.0.1', 7497, clientId=2)"
   ]
  },
  {
   "cell_type": "code",
   "execution_count": 18,
   "id": "39c1f316",
   "metadata": {},
   "outputs": [
    {
     "name": "stdout",
     "output_type": "stream",
     "text": [
      "Contract qualified successfully: Future(conId=533620665, symbol='ES', lastTradeDateOrContractMonth='20240315', multiplier='50', exchange='CME', currency='USD', localSymbol='ESH4', tradingClass='ES')\n",
      "                       date     open     high      low    close  volume  \\\n",
      "0 2024-01-30 08:30:00-06:00  4946.25  4953.75  4946.00  4953.50    -1.0   \n",
      "1 2024-01-30 09:00:00-06:00  4953.50  4954.00  4944.00  4947.25    -1.0   \n",
      "2 2024-01-30 10:00:00-06:00  4947.25  4955.75  4945.25  4954.25    -1.0   \n",
      "3 2024-01-30 11:00:00-06:00  4954.25  4955.75  4941.50  4944.75    -1.0   \n",
      "4 2024-01-30 12:00:00-06:00  4944.75  4951.25  4942.00  4948.25    -1.0   \n",
      "\n",
      "   average  barCount  \n",
      "0     -1.0        -1  \n",
      "1     -1.0        -1  \n",
      "2     -1.0        -1  \n",
      "3     -1.0        -1  \n",
      "4     -1.0        -1  \n"
     ]
    }
   ],
   "source": [
    "# Update the contract details as needed\n",
    "contract = Future(symbol='ES', lastTradeDateOrContractMonth='202403', exchange='CME')\n",
    "\n",
    "# Attempt to qualify the contract\n",
    "try:\n",
    "    qualified_contract = ib.qualifyContracts(contract)[0]\n",
    "    print(\"Contract qualified successfully:\", qualified_contract)\n",
    "except Exception as e:\n",
    "    print(f\"Error qualifying contract: {e}\")\n",
    "    qualified_contract = None\n",
    "\n",
    "if qualified_contract:\n",
    "    # Request historical data for the qualified contract\n",
    "    historical_data = ib.reqHistoricalData(\n",
    "        qualified_contract, endDateTime='', durationStr='30 D',\n",
    "        barSizeSetting='1 hour', whatToShow='MIDPOINT', useRTH=True)\n",
    "\n",
    "    if historical_data:\n",
    "        df = util.df(historical_data)\n",
    "        print(df.head())\n",
    "    else:\n",
    "        print(\"No historical data returned.\")\n",
    "else:\n",
    "    print(\"Unable to request historical data due to contract issues.\")"
   ]
  },
  {
   "cell_type": "code",
   "execution_count": 19,
   "id": "524abd42",
   "metadata": {},
   "outputs": [
    {
     "name": "stdout",
     "output_type": "stream",
     "text": [
      "                       date     open     high      low    close  volume  \\\n",
      "0 2024-01-30 08:30:00-06:00  4946.25  4953.75  4946.00  4953.50    -1.0   \n",
      "1 2024-01-30 09:00:00-06:00  4953.50  4954.00  4944.00  4947.25    -1.0   \n",
      "2 2024-01-30 10:00:00-06:00  4947.25  4955.75  4945.25  4954.25    -1.0   \n",
      "3 2024-01-30 11:00:00-06:00  4954.25  4955.75  4941.50  4944.75    -1.0   \n",
      "4 2024-01-30 12:00:00-06:00  4944.75  4951.25  4942.00  4948.25    -1.0   \n",
      "\n",
      "   average  barCount  \n",
      "0     -1.0        -1  \n",
      "1     -1.0        -1  \n",
      "2     -1.0        -1  \n",
      "3     -1.0        -1  \n",
      "4     -1.0        -1  \n"
     ]
    }
   ],
   "source": [
    "ib.reqMarketDataType(3)  # Switch to delayed data if necessary\n",
    "\n",
    "historical_data = ib.reqHistoricalData(\n",
    "    contract, endDateTime='', durationStr='30 D',\n",
    "    barSizeSetting='1 hour', whatToShow='MIDPOINT', useRTH=True)\n",
    "\n",
    "df = util.df(historical_data)\n",
    "print(df.head())"
   ]
  },
  {
   "cell_type": "code",
   "execution_count": 29,
   "id": "7ef9378d",
   "metadata": {},
   "outputs": [],
   "source": [
    "import requests\n",
    "from dateutil.parser import parse\n",
    "\n",
    "def get_headlines(api_token):\n",
    "    url = \"https://api.marketaux.com/v1/news/all?symbols=^GSPC&filter_entities=true&language=en&api_token=\"+api_token\n",
    "    \n",
    "    cleaned_data = []\n",
    "    for _ in range(3):\n",
    "        response = requests.get(url)\n",
    "        news_headlines = response.json()\n",
    "        for article in news_headlines['data']:\n",
    "            date = article['published_at']\n",
    "            title = article['title']\n",
    "            cleaned_data.append({'date': date, 'headline': title})\n",
    "    \n",
    "    return cleaned_data\n",
    "\n",
    "def extract_headlines(data):\n",
    "    headlines = {}  # This will store dates with a list of headlines\n",
    "    \n",
    "    # Ensure 'data' is a list of dictionaries, each containing an article with 'publishedAt' and 'title'\n",
    "    for item in data:\n",
    "        # Parse the publication date of the article and format it as a string\n",
    "        date = parse(item['date']).date()\n",
    "        date_str = date.strftime('%Y-%m-%d')\n",
    "        \n",
    "        # Ensure there is a list to append headlines for the given date\n",
    "        if date_str not in headlines:\n",
    "            headlines[date_str] = []\n",
    "        \n",
    "        # Append the headline to the list for the given date\n",
    "        headlines[date_str].append(item['headline'])\n",
    "    \n",
    "    return headlines"
   ]
  },
  {
   "cell_type": "code",
   "execution_count": 30,
   "id": "6fa8fd91",
   "metadata": {},
   "outputs": [
    {
     "name": "stdout",
     "output_type": "stream",
     "text": [
      "Date: 2024-03-12\n",
      " - S&P 500 Gains and Losses Today: Oracle Surges as Results Show AI Advancement\n",
      " - U.S. Stock Market Optimism Amid Inflation Concerns\n",
      " - Market Talk – March 12, 2024\n",
      " - S&P 500 Gains and Losses Today: Oracle Surges as Results Show AI Advancement\n",
      " - U.S. Stock Market Optimism Amid Inflation Concerns\n",
      " - Market Talk – March 12, 2024\n",
      " - S&P 500 Gains and Losses Today: Oracle Surges as Results Show AI Advancement\n",
      " - U.S. Stock Market Optimism Amid Inflation Concerns\n",
      " - Market Talk – March 12, 2024\n"
     ]
    },
    {
     "name": "stderr",
     "output_type": "stream",
     "text": [
      "Peer closed connection.\n"
     ]
    }
   ],
   "source": [
    "api_token = 'jLSvSMQQg0Kk22VWfOiLOqqwjui1e0CZy4gQWsnu'  # Replace with your actual API token\n",
    "headlines_data = get_headlines(api_token)\n",
    "organized_headlines = extract_headlines(headlines_data)\n",
    "\n",
    "# To print the organized headlines:\n",
    "for date, titles in organized_headlines.items():\n",
    "    print(f\"Date: {date}\")\n",
    "    for title in titles:\n",
    "        print(f\" - {title}\")"
   ]
  },
  {
   "cell_type": "markdown",
   "id": "a0216c07",
   "metadata": {},
   "source": [
    "# 2. Feature Extraction & Preprocessing #"
   ]
  },
  {
   "cell_type": "code",
   "execution_count": null,
   "id": "a2f79be3",
   "metadata": {},
   "outputs": [],
   "source": []
  }
 ],
 "metadata": {
  "kernelspec": {
   "display_name": "Python 3 (ipykernel)",
   "language": "python",
   "name": "python3"
  },
  "language_info": {
   "codemirror_mode": {
    "name": "ipython",
    "version": 3
   },
   "file_extension": ".py",
   "mimetype": "text/x-python",
   "name": "python",
   "nbconvert_exporter": "python",
   "pygments_lexer": "ipython3",
   "version": "3.11.5"
  }
 },
 "nbformat": 4,
 "nbformat_minor": 5
}
